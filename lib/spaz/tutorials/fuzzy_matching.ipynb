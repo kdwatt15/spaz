{
 "cells": [
  {
   "cell_type": "markdown",
   "metadata": {},
   "source": [
    "# Fuzzy Matching\n",
    "This notebook introduces common fuzzy matching algorithms, the definitions of those algorithms, and the functions to compute each in using Python. Included are the following:\n",
    "- [Hamming Distance](https://en.wikipedia.org/wiki/Hamming_distance)\n",
    "- [Levenshtein Distance/Edit Distance](https://en.wikipedia.org/w/index.php?title=Levenshtein_distance&gettingStartedReturn=true#Computing_Levenshtein_distance)\n",
    "- [Damerau Levenshtein Distance](https://en.wikipedia.org/wiki/Damerau%E2%80%93Levenshtein_distance)\n",
    "- [N-Gram based string matching](https://en.wikipedia.org/wiki/N-gram)\n",
    "- [BK Tree](https://en.wikipedia.org/wiki/BK-tree)\n",
    "- [Bitap algorithm](https://en.wikipedia.org/wiki/Bitap_algorithm)\n",
    "\n",
    "#### N-Gram based string matching\n",
    "A set of values generated from a string by pairing sequentially occurring 'n' characters. \n",
    "#### BK Tree\n",
    "BK tree works by using Levenstein Distance and triangle inequality against a pool of words from an available dictionary.\n",
    "#### Bitap algorithm"
   ]
  },
  {
   "cell_type": "markdown",
   "metadata": {},
   "source": [
    "### Hamming Distance\n",
    "The most obvious distance between two strings. The number of characters that don't match. Useful when comparing two binary data strings."
   ]
  },
  {
   "cell_type": "code",
   "execution_count": 26,
   "metadata": {},
   "outputs": [
    {
     "name": "stdout",
     "output_type": "stream",
     "text": [
      "'1011' vs. '1101': 2\n",
      "'abc' vs. 'abc': 0\n"
     ]
    }
   ],
   "source": [
    "def hamming_distance(string_1, string_2):\n",
    "    \"\"\" returns the sum of the xor operation performed for each character in a string \"\"\"\n",
    "    if len(string_1) != len(string_2): raise ValueError('Strings must be of same length.')\n",
    "    return sum([string_1[i] != string_2[i] for i in range(len(string_1))])\n",
    "\n",
    "print(f\"'1011' vs. '1101': {hamming_distance('1011', '1101')}\") # this will equal 2\n",
    "print(f\"'abc' vs. 'abc': {hamming_distance('abc', 'abc')}\")     # this will equal 0"
   ]
  },
  {
   "cell_type": "markdown",
   "metadata": {},
   "source": [
    "#### [Levenshtein Distance/Edit Distance](https://www.python-course.eu/levenshtein_distance.php)\n",
    "The minimum amount of edits (addition, removal, or replace) needed to be made to the strings to make them equal. The Levenshtein Distance can be calculated reursively, but this is time consuming and redundant because it recomputes the Levenshtein Distance of the same substrings multiple times. \n",
    "\n",
    "Instead, a [dynamic programming](https://en.wikipedia.org/wiki/Dynamic_programming) approach can be used to minimize the time complexity of the calculation."
   ]
  },
  {
   "cell_type": "code",
   "execution_count": 10,
   "metadata": {},
   "outputs": [
    {
     "name": "stdout",
     "output_type": "stream",
     "text": [
      "4\n",
      "4\n"
     ]
    }
   ],
   "source": [
    "def recursive_levenshtein_distance(s1, s2):\n",
    "    \"\"\" recursive approach to calculating Levenshtein Distance\"\"\"\n",
    "    if s1 == \"\": return len(s2)\n",
    "    if s2 == \"\": return len(s1)\n",
    "    \n",
    "    cost = 0 if s1[-1] == s2[-1] else 1\n",
    "    \n",
    "    return min(\n",
    "        recursive_levenshtein_distance(s1[:-1], s2) + 1,\n",
    "        recursive_levenshtein_distance(s1, s2[:-1]) + 1,\n",
    "        recursive_levenshtein_distance(s1[:-1], s2[:-1]) + cost\n",
    "    )\n",
    "\n",
    "def iterative_levenshtein_distance(s1, s2, costs=(1, 1, 1)):\n",
    "    \"\"\" \n",
    "    Returns the minimum number of operations needed to make two strings equal. \n",
    "    Possible operations are: addition, removal, or replacement of characters.\n",
    "    \"\"\"\n",
    "    rows = len(s1) + 1\n",
    "    cols = len(s2) + 1\n",
    "    deletes, inserts, substitutes = costs\n",
    "    \n",
    "    dist = [[0 for _ in range(cols)] for _ in range(rows)]\n",
    "    \n",
    "    # source prefixes can be created from an empty source string\n",
    "    # by inserting the characters\n",
    "    \n",
    "    for col in range(1, cols):\n",
    "        dist[0][col] = col * inserts\n",
    "\n",
    "    for col in range(cols):\n",
    "        for row in range(1, rows):\n",
    "            if s1[row-1] == s2[col-1]:\n",
    "                cost = 0\n",
    "            else:\n",
    "                cost = substitutes\n",
    "            dist[row][col] = min(\n",
    "                dist[row-1][col] + deletes,\n",
    "                dist[row][col-1] + inserts,\n",
    "                dist[row-1][col-1] + cost # substitutes\n",
    "            )\n",
    "        \n",
    "    return dist[row][col]\n",
    "    \n",
    "string_1, string_2 = ('winter', 'summer')\n",
    "print(recursive_levenshtein_distance(string_1, string_2))\n",
    "print(iterative_levenshtein_distance(string_1, string_2))"
   ]
  },
  {
   "cell_type": "markdown",
   "metadata": {},
   "source": [
    "#### [Damerau Levenshtein Distance](https://en.wikipedia.org/wiki/Damerau%E2%80%93Levenshtein_distance)\n",
    "Similar to the Levenstein Distance, but with 'swap' added to the set of possible operations. "
   ]
  }
 ],
 "metadata": {
  "kernelspec": {
   "display_name": "Python 3",
   "language": "python",
   "name": "python3"
  },
  "language_info": {
   "codemirror_mode": {
    "name": "ipython",
    "version": 3
   },
   "file_extension": ".py",
   "mimetype": "text/x-python",
   "name": "python",
   "nbconvert_exporter": "python",
   "pygments_lexer": "ipython3",
   "version": "3.9.0"
  }
 },
 "nbformat": 4,
 "nbformat_minor": 4
}
