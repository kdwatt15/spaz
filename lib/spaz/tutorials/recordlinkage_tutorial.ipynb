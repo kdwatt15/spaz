{
 "cells": [
  {
   "cell_type": "code",
   "execution_count": 36,
   "metadata": {},
   "outputs": [
    {
     "data": {
      "text/html": [
       "<div>\n",
       "<style scoped>\n",
       "    .dataframe tbody tr th:only-of-type {\n",
       "        vertical-align: middle;\n",
       "    }\n",
       "\n",
       "    .dataframe tbody tr th {\n",
       "        vertical-align: top;\n",
       "    }\n",
       "\n",
       "    .dataframe thead th {\n",
       "        text-align: right;\n",
       "    }\n",
       "</style>\n",
       "<table border=\"1\" class=\"dataframe\">\n",
       "  <thead>\n",
       "    <tr style=\"text-align: right;\">\n",
       "      <th></th>\n",
       "      <th>Company</th>\n",
       "      <th>Slogan</th>\n",
       "    </tr>\n",
       "  </thead>\n",
       "  <tbody>\n",
       "    <tr>\n",
       "      <th>0</th>\n",
       "      <td>Evian</td>\n",
       "      <td>Evian. Live young.</td>\n",
       "    </tr>\n",
       "    <tr>\n",
       "      <th>1</th>\n",
       "      <td>Dasani</td>\n",
       "      <td>Designed to make a difference.</td>\n",
       "    </tr>\n",
       "    <tr>\n",
       "      <th>2</th>\n",
       "      <td>Heineken</td>\n",
       "      <td>It's all about the beer.</td>\n",
       "    </tr>\n",
       "    <tr>\n",
       "      <th>3</th>\n",
       "      <td>Gatorade</td>\n",
       "      <td>The Legend Continues.</td>\n",
       "    </tr>\n",
       "    <tr>\n",
       "      <th>4</th>\n",
       "      <td>TÃ­o Pepe</td>\n",
       "      <td>Good food tastes better after a glass of Tio Pepe</td>\n",
       "    </tr>\n",
       "  </tbody>\n",
       "</table>\n",
       "</div>"
      ],
      "text/plain": [
       "     Company                                             Slogan\n",
       "0      Evian                                 Evian. Live young.\n",
       "1     Dasani                     Designed to make a difference.\n",
       "2   Heineken                           It's all about the beer.\n",
       "3   Gatorade                              The Legend Continues.\n",
       "4  TÃ­o Pepe  Good food tastes better after a glass of Tio Pepe"
      ]
     },
     "execution_count": 36,
     "metadata": {},
     "output_type": "execute_result"
    }
   ],
   "source": [
    "import os\n",
    "import csv\n",
    "import pandas as pd\n",
    "\n",
    "with open(os.path.join(\"data\", \"sloganlist.csv\"), \"r\") as f:\n",
    "    data = [line for line in csv.reader(f)]\n",
    "    \n",
    "df = pd.DataFrame(data[2:], columns=data[0])\n",
    "df.head()"
   ]
  },
  {
   "cell_type": "code",
   "execution_count": 101,
   "metadata": {},
   "outputs": [
    {
     "name": "stdout",
     "output_type": "stream",
     "text": [
      "                  0         1\n",
      "951  944   0.544331  0.166667\n",
      "991  944   0.544331  0.166667\n",
      "1031 944   0.544331  0.166667\n",
      "1071 944   0.544331  0.166667\n",
      "1111 944   0.544331  0.166667\n",
      "...             ...       ...\n",
      "1135 209   0.178174  0.242424\n",
      "1136 1014  0.583333  0.241379\n",
      "1137 1010  0.204124  0.137931\n",
      "1138 782   0.084515  0.157895\n",
      "1140 520   0.084515  0.136364\n",
      "\n",
      "[11713 rows x 2 columns]\n"
     ]
    }
   ],
   "source": [
    "import recordlinkage\n",
    "from recordlinkage.index import Full\n",
    "from recordlinkage.index import SortedNeighbourhood\n",
    "\n",
    "indexer = recordlinkage.Index()\n",
    "indexer.add(SortedNeighbourhood('Company'))\n",
    "candidate_links = indexer.index(df)\n",
    "\n",
    "c = recordlinkage.Compare()\n",
    "c.string('Company', 'Company', method='cosine')\n",
    "c.string('Slogan', 'Slogan', method='damerau_levenshtein')\n",
    "feature_vectors = c.compute(candidate_links, df)\n",
    "\n",
    "print(feature_vectors)"
   ]
  },
  {
   "cell_type": "code",
   "execution_count": 108,
   "metadata": {
    "scrolled": true
   },
   "outputs": [
    {
     "data": {
      "text/html": [
       "<div>\n",
       "<style scoped>\n",
       "    .dataframe tbody tr th:only-of-type {\n",
       "        vertical-align: middle;\n",
       "    }\n",
       "\n",
       "    .dataframe tbody tr th {\n",
       "        vertical-align: top;\n",
       "    }\n",
       "\n",
       "    .dataframe thead th {\n",
       "        text-align: right;\n",
       "    }\n",
       "</style>\n",
       "<table border=\"1\" class=\"dataframe\">\n",
       "  <thead>\n",
       "    <tr style=\"text-align: right;\">\n",
       "      <th></th>\n",
       "      <th></th>\n",
       "      <th>0</th>\n",
       "      <th>1</th>\n",
       "      <th>composite</th>\n",
       "    </tr>\n",
       "  </thead>\n",
       "  <tbody>\n",
       "    <tr>\n",
       "      <th>98</th>\n",
       "      <th>54</th>\n",
       "      <td>0.800641</td>\n",
       "      <td>0.205882</td>\n",
       "      <td>1.006523</td>\n",
       "    </tr>\n",
       "    <tr>\n",
       "      <th>902</th>\n",
       "      <th>796</th>\n",
       "      <td>0.800327</td>\n",
       "      <td>0.192308</td>\n",
       "      <td>0.992634</td>\n",
       "    </tr>\n",
       "    <tr>\n",
       "      <th>294</th>\n",
       "      <th>6</th>\n",
       "      <td>0.770054</td>\n",
       "      <td>0.130435</td>\n",
       "      <td>0.900488</td>\n",
       "    </tr>\n",
       "    <tr>\n",
       "      <th>865</th>\n",
       "      <th>753</th>\n",
       "      <td>0.755929</td>\n",
       "      <td>0.444444</td>\n",
       "      <td>1.200373</td>\n",
       "    </tr>\n",
       "    <tr>\n",
       "      <th>1136</th>\n",
       "      <th>662</th>\n",
       "      <td>0.720577</td>\n",
       "      <td>0.260870</td>\n",
       "      <td>0.981446</td>\n",
       "    </tr>\n",
       "    <tr>\n",
       "      <th>498</th>\n",
       "      <th>334</th>\n",
       "      <td>0.707107</td>\n",
       "      <td>0.125000</td>\n",
       "      <td>0.832107</td>\n",
       "    </tr>\n",
       "  </tbody>\n",
       "</table>\n",
       "</div>"
      ],
      "text/plain": [
       "                 0         1  composite\n",
       "98   54   0.800641  0.205882   1.006523\n",
       "902  796  0.800327  0.192308   0.992634\n",
       "294  6    0.770054  0.130435   0.900488\n",
       "865  753  0.755929  0.444444   1.200373\n",
       "1136 662  0.720577  0.260870   0.981446\n",
       "498  334  0.707107  0.125000   0.832107"
      ]
     },
     "execution_count": 108,
     "metadata": {},
     "output_type": "execute_result"
    }
   ],
   "source": [
    "feature_vectors['composite'] = feature_vectors[0] + feature_vectors[1]\n",
    "\n",
    "feature_vectors.loc[\n",
    "    (feature_vectors[0] >= .7) & (feature_vectors[0] < .99)].sort_values(\n",
    "    by=0, ascending=False)"
   ]
  },
  {
   "cell_type": "code",
   "execution_count": 114,
   "metadata": {},
   "outputs": [
    {
     "name": "stdout",
     "output_type": "stream",
     "text": [
      "Company               Canadian Mist\n",
      "Slogan     Grip it. Tip it. Sip it.\n",
      "Name: 498, dtype: object\n",
      "Company             Canadian Club\n",
      "Slogan     âNo ordinary Whisky.\n",
      "Name: 334, dtype: object\n"
     ]
    }
   ],
   "source": [
    "print(df.iloc[498])\n",
    "print(df.iloc[334])"
   ]
  },
  {
   "cell_type": "code",
   "execution_count": 115,
   "metadata": {},
   "outputs": [],
   "source": [
    "import abc"
   ]
  }
 ],
 "metadata": {
  "kernelspec": {
   "display_name": "Python 3",
   "language": "python",
   "name": "python3"
  },
  "language_info": {
   "codemirror_mode": {
    "name": "ipython",
    "version": 3
   },
   "file_extension": ".py",
   "mimetype": "text/x-python",
   "name": "python",
   "nbconvert_exporter": "python",
   "pygments_lexer": "ipython3",
   "version": "3.9.0"
  }
 },
 "nbformat": 4,
 "nbformat_minor": 4
}
