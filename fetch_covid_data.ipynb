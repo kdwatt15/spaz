{
 "cells": [
  {
   "cell_type": "code",
   "execution_count": 1,
   "metadata": {},
   "outputs": [],
   "source": [
    "# Standard imports\n",
    "import requests\n",
    "import json\n",
    "import datetime\n",
    "\n",
    "# PyPi imports\n",
    "from tqdm import tqdm\n",
    "\n",
    "# Import project \n",
    "from spaz import *"
   ]
  },
  {
   "cell_type": "code",
   "execution_count": 2,
   "metadata": {},
   "outputs": [],
   "source": [
    "\"\"\" create list of COVID dates \"\"\"\n",
    "covid_start = datetime.date(year=2020, month=3, day=1)\n",
    "covid_duration = (datetime.date.today() - covid_start).days\n",
    "date_list = [covid_start + datetime.timedelta(days=x) for x in range(covid_duration)]"
   ]
  },
  {
   "cell_type": "code",
   "execution_count": null,
   "metadata": {},
   "outputs": [],
   "source": [
    "def create_url(date):\n",
    "    return f\"https://covid-api.com/api/reports?iso=USA&province=New York City, NY&date={date.strftime('%Y-%m-%d')}\"\n",
    "\n",
    "url_list = map(create_url, date_list)\n",
    "\n",
    "covid_data = {i: get_data(url) for i, url in enumerate(url_list)}"
   ]
  }
 ],
 "metadata": {
  "kernelspec": {
   "display_name": "Python 3",
   "language": "python",
   "name": "python3"
  },
  "language_info": {
   "codemirror_mode": {
    "name": "ipython",
    "version": 3
   },
   "file_extension": ".py",
   "mimetype": "text/x-python",
   "name": "python",
   "nbconvert_exporter": "python",
   "pygments_lexer": "ipython3",
   "version": "3.9.0"
  }
 },
 "nbformat": 4,
 "nbformat_minor": 4
}
